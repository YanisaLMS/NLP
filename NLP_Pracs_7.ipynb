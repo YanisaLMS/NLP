{
  "nbformat": 4,
  "nbformat_minor": 0,
  "metadata": {
    "colab": {
      "provenance": []
    },
    "kernelspec": {
      "name": "python3",
      "display_name": "Python 3"
    },
    "language_info": {
      "name": "python"
    }
  },
  "cells": [
    {
      "cell_type": "code",
      "source": [
        "import spacy\n",
        "\n",
        "# Load the pre-trained NER model\n",
        "nlp = spacy.load(\"en_core_web_sm\")\n",
        "\n",
        "# Sample text related to India\n",
        "text = \"\"\"On August 15, 1947, India gained independence from British rule. The first Prime Minister of India,\n",
        "Jawaharlal Nehru, delivered his famous speech, 'Tryst with Destiny,' at the Red Fort in Delhi. In 2020,\n",
        "the Government of India launched the Atmanirbhar Bharat initiative to promote self-reliance in various sectors.\n",
        "Major cities like Mumbai, Bengaluru, and Kolkata are key economic hubs. The Indian Space Research Organisation (ISRO)\n",
        "has made significant advancements in space technology, including the successful Mars Orbiter Mission.\"\"\"\n",
        "\n",
        "# Process the text\n",
        "doc = nlp(text)\n",
        "\n",
        "# Extract named entities\n",
        "print(\"Extracted Named Entities:\")\n",
        "for ent in doc.ents:\n",
        "    print(f\"{ent.text}: {ent.label_}\")\n"
      ],
      "metadata": {
        "colab": {
          "base_uri": "https://localhost:8080/"
        },
        "id": "YhJWKgDiRBnD",
        "outputId": "affb0eff-e134-4daf-dfa2-13e9a6ef9676"
      },
      "execution_count": 17,
      "outputs": [
        {
          "output_type": "stream",
          "name": "stdout",
          "text": [
            "Extracted Named Entities:\n",
            "August 15, 1947: DATE\n",
            "India: GPE\n",
            "British: NORP\n",
            "first: ORDINAL\n",
            "India: GPE\n",
            "Jawaharlal: GPE\n",
            "Destiny: PERSON\n",
            "the Red Fort: FAC\n",
            "Delhi: GPE\n",
            "2020: DATE\n",
            "the Government of India: ORG\n",
            "Atmanirbhar Bharat: PERSON\n",
            "Mumbai: GPE\n",
            "Bengaluru: GPE\n",
            "Kolkata: GPE\n",
            "The Indian Space Research Organisation: ORG\n",
            "Mars Orbiter Mission: LOC\n"
          ]
        }
      ]
    },
    {
      "cell_type": "code",
      "source": [],
      "metadata": {
        "id": "g34reKV4R9NB"
      },
      "execution_count": null,
      "outputs": []
    }
  ]
}