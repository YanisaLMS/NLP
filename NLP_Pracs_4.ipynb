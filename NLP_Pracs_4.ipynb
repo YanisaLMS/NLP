{
  "nbformat": 4,
  "nbformat_minor": 0,
  "metadata": {
    "colab": {
      "provenance": []
    },
    "kernelspec": {
      "name": "python3",
      "display_name": "Python 3"
    },
    "language_info": {
      "name": "python"
    }
  },
  "cells": [
    {
      "cell_type": "code",
      "source": [
        "import nltk\n",
        "from nltk import ngrams\n",
        "\n",
        "nltk.download('punkt')\n",
        "\n",
        "eng_text = \"Please turn in your homework. Please turn it in by tomorrow.\"\n",
        "\n",
        "# Tokenize the text into a list of words\n",
        "tokens = nltk.word_tokenize(eng_text)\n",
        "\n",
        "# Generate unigrams, bigrams, and trigrams\n",
        "unigrams = list(ngrams(tokens, 1))\n",
        "bigrams = list(ngrams(tokens, 2))\n",
        "trigrams = list(ngrams(tokens, 3))\n",
        "\n",
        "\n",
        "print(\"Unigrams:\", unigrams)\n",
        "print(\"\\nBigrams:\", bigrams)\n",
        "print(\"\\nTrigrams:\", trigrams)\n"
      ],
      "metadata": {
        "colab": {
          "base_uri": "https://localhost:8080/"
        },
        "id": "cYfgnHGZOrrO",
        "outputId": "74af8158-d347-443f-920a-a6a1b13bb68b"
      },
      "execution_count": 10,
      "outputs": [
        {
          "output_type": "stream",
          "name": "stdout",
          "text": [
            "Unigrams: [('Please',), ('turn',), ('in',), ('your',), ('homework',), ('.',), ('Please',), ('turn',), ('it',), ('in',), ('by',), ('tomorrow',), ('.',)]\n",
            "\n",
            "Bigrams: [('Please', 'turn'), ('turn', 'in'), ('in', 'your'), ('your', 'homework'), ('homework', '.'), ('.', 'Please'), ('Please', 'turn'), ('turn', 'it'), ('it', 'in'), ('in', 'by'), ('by', 'tomorrow'), ('tomorrow', '.')]\n",
            "\n",
            "Trigrams: [('Please', 'turn', 'in'), ('turn', 'in', 'your'), ('in', 'your', 'homework'), ('your', 'homework', '.'), ('homework', '.', 'Please'), ('.', 'Please', 'turn'), ('Please', 'turn', 'it'), ('turn', 'it', 'in'), ('it', 'in', 'by'), ('in', 'by', 'tomorrow'), ('by', 'tomorrow', '.')]\n"
          ]
        },
        {
          "output_type": "stream",
          "name": "stderr",
          "text": [
            "[nltk_data] Downloading package punkt to /root/nltk_data...\n",
            "[nltk_data]   Package punkt is already up-to-date!\n"
          ]
        }
      ]
    },
    {
      "cell_type": "code",
      "source": [],
      "metadata": {
        "id": "pfdBNq5ZP-cl"
      },
      "execution_count": null,
      "outputs": []
    }
  ]
}