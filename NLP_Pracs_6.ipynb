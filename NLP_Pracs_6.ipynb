{
  "nbformat": 4,
  "nbformat_minor": 0,
  "metadata": {
    "colab": {
      "provenance": []
    },
    "kernelspec": {
      "name": "python3",
      "display_name": "Python 3"
    },
    "language_info": {
      "name": "python"
    }
  },
  "cells": [
    {
      "cell_type": "code",
      "source": [
        "import nltk\n",
        "from nltk import pos_tag, word_tokenize, RegexpParser\n",
        "\n",
        "# Ensure you have the necessary NLTK resources\n",
        "nltk.download('punkt')\n",
        "nltk.download('averaged_perceptron_tagger')\n",
        "\n",
        "# Sample sentence\n",
        "sentence = \"The quick brown fox jumps over the lazy dog.\"\n",
        "\n",
        "# Step 1: Tokenization\n",
        "tokens = word_tokenize(sentence)\n",
        "\n",
        "# Step 2: POS Tagging\n",
        "pos_tags = pos_tag(tokens)\n",
        "\n",
        "# Display POS tags\n",
        "print(\"Tokenization and POS Tagging:\")\n",
        "for word, tag in pos_tags:\n",
        "    print(f\"{word}: {tag}\")\n",
        "\n",
        "# Step 3: Define Chunk Patterns\n",
        "# Define a chunk pattern for noun phrases (NP)\n",
        "chunk_pattern = r\"\"\"\n",
        "    NP: {<DT>?<JJ>*<NN.*>+}\n",
        "\"\"\"\n",
        "# Create a chunk parser\n",
        "chunk_parser = RegexpParser(chunk_pattern)\n",
        "\n",
        "# Step 4: Chunk Extraction\n",
        "chunks = chunk_parser.parse(pos_tags)\n",
        "\n",
        "# Display the chunks\n",
        "print(\"\\nExtracted Chunks:\")\n",
        "for subtree in chunks.subtrees():\n",
        "    if subtree.label() == 'NP':\n",
        "        print(\" \".join(word for word, pos in subtree.leaves()))"
      ],
      "metadata": {
        "colab": {
          "base_uri": "https://localhost:8080/"
        },
        "id": "YhJWKgDiRBnD",
        "outputId": "d43ecaa7-830a-4f5e-ce65-b5936d4064bc"
      },
      "execution_count": 14,
      "outputs": [
        {
          "output_type": "stream",
          "name": "stderr",
          "text": [
            "[nltk_data] Downloading package punkt to /root/nltk_data...\n",
            "[nltk_data]   Package punkt is already up-to-date!\n",
            "[nltk_data] Downloading package averaged_perceptron_tagger to\n",
            "[nltk_data]     /root/nltk_data...\n",
            "[nltk_data]   Unzipping taggers/averaged_perceptron_tagger.zip.\n"
          ]
        },
        {
          "output_type": "stream",
          "name": "stdout",
          "text": [
            "Tokenization and POS Tagging:\n",
            "The: DT\n",
            "quick: JJ\n",
            "brown: NN\n",
            "fox: NN\n",
            "jumps: VBZ\n",
            "over: IN\n",
            "the: DT\n",
            "lazy: JJ\n",
            "dog: NN\n",
            ".: .\n",
            "\n",
            "Extracted Chunks:\n",
            "The quick brown fox\n",
            "the lazy dog\n"
          ]
        }
      ]
    },
    {
      "cell_type": "code",
      "source": [],
      "metadata": {
        "id": "g34reKV4R9NB"
      },
      "execution_count": null,
      "outputs": []
    }
  ]
}